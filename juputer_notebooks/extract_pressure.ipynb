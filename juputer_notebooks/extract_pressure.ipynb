{
 "cells": [
  {
   "cell_type": "code",
   "execution_count": null,
   "metadata": {},
   "outputs": [],
   "source": [
    "# Import libraries and modules\n",
    "import cv2\n",
    "import numpy as np\n",
    "import pandas as pd\n",
    "import matplotlib.pyplot as plt\n"
   ]
  },
  {
   "cell_type": "code",
   "execution_count": null,
   "metadata": {},
   "outputs": [],
   "source": [
    "# Load the image\n",
    "image_path = r\"..\\test_images\\normal_pressure.png\"\n",
    "image = cv2.imread(image_path, cv2.IMREAD_GRAYSCALE)\n"
   ]
  },
  {
   "cell_type": "code",
   "execution_count": null,
   "metadata": {},
   "outputs": [],
   "source": [
    "# Invert colors if needed (to make the curve stand out)\n",
    "_, thresh = cv2.threshold(image, 200, 255, cv2.THRESH_BINARY_INV)"
   ]
  },
  {
   "cell_type": "code",
   "execution_count": null,
   "metadata": {},
   "outputs": [],
   "source": [
    "# Edge detection (Canny)\n",
    "edges = cv2.Canny(thresh, 50, 150)"
   ]
  },
  {
   "cell_type": "code",
   "execution_count": null,
   "metadata": {},
   "outputs": [],
   "source": [
    "# Apply thresholding to highlight the waveform\n",
    "_, binary = cv2.threshold(image, 200, 255, cv2.THRESH_BINARY_INV)\n"
   ]
  },
  {
   "cell_type": "code",
   "execution_count": null,
   "metadata": {},
   "outputs": [],
   "source": [
    "# Automatically determine Canny thresholds\n",
    "median_intensity = np.median(binary)\n",
    "low_threshold = int(max(0, 0.66 * median_intensity))  # Lower threshold\n",
    "high_threshold = int(min(255, 1.33 * median_intensity))  # Higher threshold\n"
   ]
  },
  {
   "cell_type": "code",
   "execution_count": null,
   "metadata": {},
   "outputs": [],
   "source": [
    "# Apply edge detection (Canny) with dynamic thresholds\n",
    "edges = cv2.Canny(binary, low_threshold, high_threshold)\n"
   ]
  },
  {
   "cell_type": "code",
   "execution_count": null,
   "metadata": {},
   "outputs": [],
   "source": [
    "# Show the edge-detected image for reference\n",
    "plt.figure(figsize=(8, 5))\n",
    "plt.imshow(binary, cmap=\"gray\")\n",
    "plt.title(f\"Canny Edge Detection (Low: {low_threshold}, High: {high_threshold})\")\n",
    "plt.axis(\"off\")\n",
    "plt.show()\n"
   ]
  },
  {
   "cell_type": "markdown",
   "metadata": {},
   "source": [
    "* The code works fine up to this point. The edges are found correctly. You need to optimise the process of obtaining pixels from detected edges (code below)"
   ]
  },
  {
   "cell_type": "markdown",
   "metadata": {},
   "source": [
    "---"
   ]
  },
  {
   "cell_type": "code",
   "execution_count": null,
   "metadata": {},
   "outputs": [],
   "source": [
    "# Find contours of the waveform\n",
    "contours, _ = cv2.findContours(edges, cv2.RETR_EXTERNAL, cv2.CHAIN_APPROX_SIMPLE)\n"
   ]
  },
  {
   "cell_type": "code",
   "execution_count": null,
   "metadata": {},
   "outputs": [],
   "source": [
    "# Ensure the largest contour is the waveform (ignore small objects)\n",
    "contours = sorted(contours, key=cv2.contourArea, reverse=True)\n",
    "largest_contour = contours[0]  # Pick the biggest detected shape\n"
   ]
  },
  {
   "cell_type": "code",
   "execution_count": null,
   "metadata": {},
   "outputs": [],
   "source": [
    "# Convert contour to array of points\n",
    "x_pixels = largest_contour[:, 0, 0]  # Horizontal (time axis)\n",
    "y_pixels = largest_contour[:, 0, 1]  # Vertical (pressure axis)\n"
   ]
  },
  {
   "cell_type": "code",
   "execution_count": null,
   "metadata": {},
   "outputs": [],
   "source": [
    "# Ensure x_pixels are strictly increasing (avoid disorder in time values)\n",
    "sorted_indices = np.argsort(x_pixels)\n",
    "x_pixels = x_pixels[sorted_indices]\n",
    "y_pixels = y_pixels[sorted_indices]\n"
   ]
  },
  {
   "cell_type": "code",
   "execution_count": null,
   "metadata": {},
   "outputs": [],
   "source": [
    "# Remove duplicate x values to ensure smooth plotting\n",
    "unique_x, unique_indices = np.unique(x_pixels, return_index=True)\n",
    "x_pixels = unique_x\n",
    "y_pixels = y_pixels[unique_indices]\n"
   ]
  },
  {
   "cell_type": "code",
   "execution_count": null,
   "metadata": {},
   "outputs": [],
   "source": [
    "# Define known axis values from the image (based on labels)\n",
    "x_min, x_max = 0, 4  # Time range in seconds\n",
    "y_min, y_max = -10, 10  # Pressure range in cmH2O\n"
   ]
  },
  {
   "cell_type": "code",
   "execution_count": null,
   "metadata": {},
   "outputs": [],
   "source": [
    "# Function to normalize pixel coordinates to real-world values\n",
    "def normalize(value, min_pixel, max_pixel, min_real, max_real):\n",
    "    return min_real + (value - min_pixel) / (max_pixel - min_pixel) * (max_real - min_real)\n"
   ]
  },
  {
   "cell_type": "code",
   "execution_count": null,
   "metadata": {},
   "outputs": [],
   "source": [
    "# Scale x and y values correctly\n",
    "x_scaled = normalize(x_pixels, np.min(x_pixels), np.max(x_pixels), x_min, x_max)\n",
    "y_scaled = normalize(y_pixels, np.max(y_pixels), np.min(y_pixels), y_min, y_max)  # Flip y-axis correctly\n"
   ]
  },
  {
   "cell_type": "code",
   "execution_count": null,
   "metadata": {},
   "outputs": [],
   "source": [
    "# Create a DataFrame with extracted values\n",
    "data = pd.DataFrame({'Time (s)': x_scaled, 'Pressure (cmH2O)': y_scaled})\n",
    "# Display the first few rows\n",
    "print(data.head())\n"
   ]
  },
  {
   "cell_type": "code",
   "execution_count": null,
   "metadata": {},
   "outputs": [],
   "source": [
    "# Plot the extracted waveform\n",
    "plt.figure(figsize=(8, 5))\n",
    "plt.plot(data[\"Time (s)\"], data[\"Pressure (cmH2O)\"], marker=\"o\", linestyle=\"-\", color=\"b\")\n",
    "plt.xlabel(\"Time (s)\")\n",
    "plt.ylabel(\"Pressure (cmH2O)\")\n",
    "plt.title(\"Extracted Normal Pressure Waveform\")\n",
    "plt.grid(True)\n",
    "plt.show()\n"
   ]
  },
  {
   "cell_type": "code",
   "execution_count": null,
   "metadata": {},
   "outputs": [],
   "source": []
  }
 ],
 "metadata": {
  "kernelspec": {
   "display_name": "venv",
   "language": "python",
   "name": "python3"
  },
  "language_info": {
   "codemirror_mode": {
    "name": "ipython",
    "version": 3
   },
   "file_extension": ".py",
   "mimetype": "text/x-python",
   "name": "python",
   "nbconvert_exporter": "python",
   "pygments_lexer": "ipython3",
   "version": "3.12.8"
  }
 },
 "nbformat": 4,
 "nbformat_minor": 2
}
